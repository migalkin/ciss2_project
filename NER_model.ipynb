{
 "cells": [
  {
   "cell_type": "code",
   "execution_count": 28,
   "metadata": {},
   "outputs": [],
   "source": [
    "import spacy\n",
    "import torch\n",
    "import torch.nn as nn\n",
    "import torch.nn.functional as F\n",
    "from sklearn.neighbors import NearestNeighbors\n",
    "import numpy as np"
   ]
  },
  {
   "cell_type": "markdown",
   "metadata": {},
   "source": [
    "### NER extraction"
   ]
  },
  {
   "cell_type": "code",
   "execution_count": 2,
   "metadata": {},
   "outputs": [],
   "source": [
    "nlp = spacy.load(\"en_core_web_sm\")"
   ]
  },
  {
   "cell_type": "code",
   "execution_count": 11,
   "metadata": {},
   "outputs": [],
   "source": [
    "doc = nlp(u\"?\")"
   ]
  },
  {
   "cell_type": "code",
   "execution_count": 37,
   "metadata": {},
   "outputs": [],
   "source": [
    "def extract_filter_ents(text):\n",
    "    doc = nlp(text)\n",
    "    ents_extrd = []\n",
    "    for ent in doc.ents:\n",
    "        print(ent.label_)\n",
    "        if ent.label_ in [\"PERSON\", \"ORG\", \"NORP\", \"FAC\", \"GPE\", \"LOC\", \"PRODUCT\", \"EVENT\", \"WORK_OF_ART\"]:\n",
    "            ents_extrd.append(ent.text)       \n",
    "    return ents_extrd\n",
    "        "
   ]
  },
  {
   "cell_type": "code",
   "execution_count": 51,
   "metadata": {},
   "outputs": [
    {
     "name": "stdout",
     "output_type": "stream",
     "text": [
      "ORG\n"
     ]
    },
    {
     "data": {
      "text/plain": [
       "['Winged Victory of Samothrace']"
      ]
     },
     "execution_count": 51,
     "metadata": {},
     "output_type": "execute_result"
    }
   ],
   "source": [
    "extract_filter_ents(\"Winged Victory of Samothrace by Boticelli\")"
   ]
  },
  {
   "cell_type": "markdown",
   "metadata": {},
   "source": [
    "### Nearest neighbours of the vector"
   ]
  },
  {
   "cell_type": "code",
   "execution_count": 33,
   "metadata": {},
   "outputs": [],
   "source": [
    "def return_nn(matrix, vector, nn):\n",
    "    nbrs = NearestNeighbors(nn)\n",
    "    nbrs.fit(matrix)\n",
    "    indices = nbrs.kneighbors(vector, return_distance=False)\n",
    "    indices = indices[0]\n",
    "#     print(matrix[tree.query(list(vector))[2]])\n",
    "    \n",
    "    "
   ]
  },
  {
   "cell_type": "code",
   "execution_count": 34,
   "metadata": {},
   "outputs": [
    {
     "name": "stdout",
     "output_type": "stream",
     "text": [
      "(1, 200)\n",
      "[387 364 314 679 752 573  12 450 774 829]\n"
     ]
    }
   ],
   "source": [
    "x = np.random.rand(1000, 200)\n",
    "y = np.random.rand(1, 200)\n",
    "print(y.shape)\n",
    "return_nn(x, y, 10)"
   ]
  },
  {
   "cell_type": "markdown",
   "metadata": {},
   "source": [
    "### Zero shot model"
   ]
  },
  {
   "cell_type": "code",
   "execution_count": 87,
   "metadata": {},
   "outputs": [],
   "source": [
    "class ZS_net(nn.Module):\n",
    "        def __init__(self, question_emb_size):\n",
    "            super(ZS_net, self).__init__()\n",
    "            self.W = nn.Parameter(torch.nn.init.xavier_uniform_(torch.Tensor(question_emb_size, question_emb_size)))\n",
    "            \n",
    "        \n",
    "        def forward(self, question_emb, label_emb):\n",
    "            mult = torch.mm(question_emb, self.W)\n",
    "            output = torch.sigmoid(torch.mm(mult, label_emb.t()))\n",
    "            return output\n"
   ]
  },
  {
   "cell_type": "code",
   "execution_count": 105,
   "metadata": {},
   "outputs": [],
   "source": [
    "question_emb = torch.rand(1, 512)\n",
    "label_emb = torch.rand(1, 512)\n",
    "question1_emb = torch.rand(1, 512)\n",
    "label1_emb = torch.rand(1, 512)"
   ]
  },
  {
   "cell_type": "code",
   "execution_count": 89,
   "metadata": {},
   "outputs": [],
   "source": [
    "model = ZS_net(512)"
   ]
  },
  {
   "cell_type": "code",
   "execution_count": 90,
   "metadata": {},
   "outputs": [
    {
     "data": {
      "text/plain": [
       "tensor([[0.9999]], grad_fn=<SigmoidBackward>)"
      ]
     },
     "execution_count": 90,
     "metadata": {},
     "output_type": "execute_result"
    }
   ],
   "source": [
    "model(question_emb, label_emb)"
   ]
  },
  {
   "cell_type": "code",
   "execution_count": 95,
   "metadata": {},
   "outputs": [
    {
     "ename": "AttributeError",
     "evalue": "module 'torch.nn' has no attribute 'MSE'",
     "output_type": "error",
     "traceback": [
      "\u001b[1;31m---------------------------------------------------------------------------\u001b[0m",
      "\u001b[1;31mAttributeError\u001b[0m                            Traceback (most recent call last)",
      "\u001b[1;32m<ipython-input-95-d8d5bf3f85e1>\u001b[0m in \u001b[0;36m<module>\u001b[1;34m()\u001b[0m\n\u001b[0;32m      1\u001b[0m \u001b[0moptimizer\u001b[0m \u001b[1;33m=\u001b[0m \u001b[0mtorch\u001b[0m\u001b[1;33m.\u001b[0m\u001b[0moptim\u001b[0m\u001b[1;33m.\u001b[0m\u001b[0mAdam\u001b[0m\u001b[1;33m(\u001b[0m\u001b[0mmodel\u001b[0m\u001b[1;33m.\u001b[0m\u001b[0mparameters\u001b[0m\u001b[1;33m(\u001b[0m\u001b[1;33m)\u001b[0m\u001b[1;33m)\u001b[0m\u001b[1;33m\u001b[0m\u001b[0m\n\u001b[1;32m----> 2\u001b[1;33m \u001b[0mcriterion\u001b[0m \u001b[1;33m=\u001b[0m \u001b[0mtorch\u001b[0m\u001b[1;33m.\u001b[0m\u001b[0mnn\u001b[0m\u001b[1;33m.\u001b[0m\u001b[0mMSE\u001b[0m\u001b[1;33m(\u001b[0m\u001b[1;33m)\u001b[0m\u001b[1;33m\u001b[0m\u001b[0m\n\u001b[0m",
      "\u001b[1;31mAttributeError\u001b[0m: module 'torch.nn' has no attribute 'MSE'"
     ]
    }
   ],
   "source": [
    "optimizer = torch.optim.Adam(model.parameters())"
   ]
  },
  {
   "cell_type": "code",
   "execution_count": 111,
   "metadata": {},
   "outputs": [],
   "source": [
    "data_points = [(question_emb, label_emb, 1), (question1_emb, label1_emb, 0)]\n",
    "num_batches = 1\n",
    "num_epochs = 10"
   ]
  },
  {
   "cell_type": "code",
   "execution_count": 112,
   "metadata": {},
   "outputs": [
    {
     "name": "stdout",
     "output_type": "stream",
     "text": [
      "tensor(0., grad_fn=<MseLossBackward>)\n",
      "tensor(1., grad_fn=<MseLossBackward>)\n",
      "tensor(0., grad_fn=<MseLossBackward>)\n",
      "tensor(1., grad_fn=<MseLossBackward>)\n",
      "tensor(0., grad_fn=<MseLossBackward>)\n",
      "tensor(1., grad_fn=<MseLossBackward>)\n",
      "tensor(0., grad_fn=<MseLossBackward>)\n",
      "tensor(1., grad_fn=<MseLossBackward>)\n",
      "tensor(0., grad_fn=<MseLossBackward>)\n",
      "tensor(1., grad_fn=<MseLossBackward>)\n",
      "tensor(0., grad_fn=<MseLossBackward>)\n",
      "tensor(1., grad_fn=<MseLossBackward>)\n",
      "tensor(0., grad_fn=<MseLossBackward>)\n",
      "tensor(1., grad_fn=<MseLossBackward>)\n",
      "tensor(0., grad_fn=<MseLossBackward>)\n",
      "tensor(1., grad_fn=<MseLossBackward>)\n",
      "tensor(0., grad_fn=<MseLossBackward>)\n",
      "tensor(1., grad_fn=<MseLossBackward>)\n",
      "tensor(0., grad_fn=<MseLossBackward>)\n",
      "tensor(1., grad_fn=<MseLossBackward>)\n"
     ]
    }
   ],
   "source": [
    "for i in range(num_epochs):\n",
    "    for j in range(num_batches):\n",
    "        input_question = data_points[0][0]\n",
    "        input_label = data_points[0][1]\n",
    "        y = torch.tensor(data_points[0][2]).float()\n",
    "        \n",
    "        output = model(input_question, input_label)\n",
    "        optimizer.zero_grad()\n",
    "        loss = F.mse_loss(output, y)\n",
    "        print(loss)\n",
    "        loss.backward()\n",
    "        optimizer.step()\n",
    "    input_question = data_points[1][0]\n",
    "    input_label = data_points[1][1]\n",
    "    y = torch.tensor(data_points[1][2]).float()\n",
    "    print(F.mse_loss(output, y))"
   ]
  },
  {
   "cell_type": "code",
   "execution_count": null,
   "metadata": {},
   "outputs": [],
   "source": []
  }
 ],
 "metadata": {
  "kernelspec": {
   "display_name": "Python 3",
   "language": "python",
   "name": "python3"
  },
  "language_info": {
   "codemirror_mode": {
    "name": "ipython",
    "version": 3
   },
   "file_extension": ".py",
   "mimetype": "text/x-python",
   "name": "python",
   "nbconvert_exporter": "python",
   "pygments_lexer": "ipython3",
   "version": "3.6.6"
  }
 },
 "nbformat": 4,
 "nbformat_minor": 2
}
