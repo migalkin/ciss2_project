{
 "cells": [
  {
   "cell_type": "code",
   "execution_count": 60,
   "metadata": {},
   "outputs": [
    {
     "data": {
      "text/plain": [
       "NearestNeighbors(algorithm='auto', leaf_size=30, metric='minkowski',\n",
       "                 metric_params=None, n_jobs=None, n_neighbors=2, p=2,\n",
       "                 radius=1.0)"
      ]
     },
     "execution_count": 60,
     "metadata": {},
     "output_type": "execute_result"
    }
   ],
   "source": [
    "import spacy\n",
    "import torch\n",
    "import torch.nn as nn\n",
    "import torch.nn.functional as F\n",
    "from sklearn.neighbors import NearestNeighbors\n",
    "import numpy as np\n",
    "import pickle as pkl\n",
    "import json\n",
    "nlp = spacy.load('en')\n",
    "s_index = json.load(open(\"data/core_index.json\",\"r\"))\n",
    "sub_embeddings = np.genfromtxt(fname=\"data/out.tsv\", delimiter=\"\\t\", skip_header=0)[:,1:]\n",
    "pred_embeddings = np.genfromtxt(fname=\"data/filtered_props.tsv\", delimiter=\"\\t\", skip_header=0)[:,1:]"
   ]
  },
  {
   "cell_type": "code",
   "execution_count": 121,
   "metadata": {},
   "outputs": [],
   "source": [
    "import requests\n",
    "import urllib\n",
    "import faiss\n",
    "import scipy"
   ]
  },
  {
   "cell_type": "code",
   "execution_count": 170,
   "metadata": {},
   "outputs": [
    {
     "name": "stdout",
     "output_type": "stream",
     "text": [
      "True\n"
     ]
    }
   ],
   "source": [
    "#nbrs = NearestNeighbors(10)\n",
    "#nbrs.fit(sub_embeddings)\n",
    "index = faiss.IndexFlatIP(200)\n",
    "print(index.is_trained)\n",
    "index.add(np.ascontiguousarray(sub_embeddings.astype('float32')))"
   ]
  },
  {
   "cell_type": "code",
   "execution_count": 53,
   "metadata": {},
   "outputs": [],
   "source": [
    "entityuri2id = json.load(open(\"e2id.json\",\"r\"))\n",
    "predicateuri2id = json.load(open(\"p2id.json\",\"r\"))\n",
    "id2entity = json.load(open(\"id2e.json\",\"r\"))\n",
    "id2predicate = json.load(open(\"id2p.json\",\"r\"))"
   ]
  },
  {
   "cell_type": "code",
   "execution_count": 212,
   "metadata": {},
   "outputs": [],
   "source": [
    "input_sentence = \"Who is the father of Barack Obama?\"\n",
    "\n",
    "def run_ner(sentence):\n",
    "    doc = nlp(sentence)\n",
    "    ents_extrd = []\n",
    "    for ent in doc.ents:\n",
    "        print(ent.label_)\n",
    "        if ent.label_ in [\"PERSON\", \"ORG\", \"NORP\", \"FAC\", \"GPE\", \"LOC\", \"PRODUCT\", \"EVENT\", \"WORK_OF_ART\"]:\n",
    "            ents_extrd.append(ent.text)       \n",
    "    return ents_extrd\n",
    "\n",
    "def subject_lookup(entity):\n",
    "    return s_index[entity][0]\n",
    "\n",
    "def find_relation(sentence):\n",
    "    return \"http://www.wikidata.org/entity/P25\"\n",
    "\n",
    "def get_embeddings(e, r):\n",
    "    entity_ind = entityuri2id[\"<\"+e+\">\"]\n",
    "    relation_index = predicateuri2id[\"<\"+r+\">\"]\n",
    "    \n",
    "    return sub_embeddings[entity_ind], pred_embeddings[relation_index]\n",
    "\n",
    "def find_objects(emb, number):\n",
    "    emb = emb.reshape(1,-1)\n",
    "    #indices = nbrs.kneighbors(emb, return_distance=True\n",
    "    d, indices = index.search(emb.astype('float32'),30)\n",
    "    # print(indices)\n",
    "    print(d)\n",
    "    uri = [id2entity[str(e)] for e in indices[0]]\n",
    "    return [get_label(u) for u in uri]\n",
    "\n",
    "def get_label(uri):\n",
    "    query = \"\"\"\n",
    "    SELECT ?l WHERE {{\n",
    "       {0!s} rdfs:label ?l FILTER (lang(?l)='en')\n",
    "    }}\n",
    "    \"\"\".format(uri)\n",
    "    address = \"http://query.wikidata.org/sparql\"\n",
    "    params = urllib.parse.urlencode({\"query\": query, \"format\": \"json\"})\n",
    "    r = requests.get(address, params=params, headers={'User-Agent':'CISS2 agent'})\n",
    "    try:\n",
    "        results = json.loads(r.text)\n",
    "        return results[\"results\"][\"bindings\"][0][\"l\"][\"value\"]\n",
    "    except Exception:\n",
    "        raise Exception(\"Smth is wrong with the endpoint\")\n",
    "\n",
    "def nlg(s, p, o):\n",
    "    return \"{0!s} {1!s} {2!s}\".format(s,p,o)\n",
    "\n",
    "def dm(sentence):\n",
    "    \n",
    "    # run coref\n",
    "    # entity_uri, relation_uri = run_coref(sentence)\n",
    "    # if/else\n",
    "    \n",
    "    # run NER\n",
    "    entity = run_ner(sentence)[0]\n",
    "    print(u\"Identified entity: {0!s}\".format(entity))\n",
    "    \n",
    "    # index lookup\n",
    "    entity_uri = subject_lookup(entity)\n",
    "    print(u\"Identified entity URI: {0!s}\".format(entity_uri))\n",
    "    \n",
    "    # relation linking\n",
    "    relation_uri = find_relation(sentence)\n",
    "    print(u\"Identified relation URI: {0!s}\".format(relation_uri))\n",
    "    \n",
    "    # get s + p embeddings\n",
    "    e, r = get_embeddings(entity_uri, relation_uri)\n",
    "    us = sub_embeddings[entityuri2id[\"<http://www.wikidata.org/entity/Q766106>\"]]\n",
    "    \n",
    "    # object emb\n",
    "    #print(e)\n",
    "    #print(r)\n",
    "    object_embedding = e + r\n",
    "    os = sub_embeddings + r\n",
    "    scores = e.reshape((1, 200)) @ os.transpose()\n",
    "    print([id2entity[str(r)] for r in np.argsort(scores.flatten())[-25:]])\n",
    "    ranks = np.argsort(np.argsort(scores.flatten()))\n",
    "    #print(ranks[entityuri2id[\"<http://www.wikidata.org/entity/Q766106>\"]])\n",
    "#     print(object_embedding @ us.transpose())\n",
    "    \n",
    "    # kNN in embedding space\n",
    "    #closest_objects = find_objects(object_embedding, 20)\n",
    "    #print(u\"Closest object: {}\".format(closest_objects))\n",
    "    \n",
    "    # get labels of p, o\n",
    "    p_label = get_label(\"<\"+relation_uri+\">\")\n",
    "    #o_label = get_label(\"<+o+\">\")\n",
    "    \n",
    "    # verbalize\n",
    "    answer = nlg(entity, p_label, closest_objects)\n",
    "    \n",
    "    return answer"
   ]
  },
  {
   "cell_type": "code",
   "execution_count": 213,
   "metadata": {},
   "outputs": [
    {
     "name": "stdout",
     "output_type": "stream",
     "text": [
      "PERSON\n",
      "Identified entity: Barack Obama\n",
      "Identified entity URI: http://www.wikidata.org/entity/Q76\n",
      "Identified relation URI: http://www.wikidata.org/entity/P25\n",
      "['<http://www.wikidata.org/entity/Q11696>', '<http://www.wikidata.org/entity/Q11201>', '<http://www.wikidata.org/entity/Q34296>', '<http://www.wikidata.org/entity/Q476068>', '<http://www.wikidata.org/entity/Q13133>', '<http://www.wikidata.org/entity/Q35041>', '<http://www.wikidata.org/entity/Q699872>', '<http://www.wikidata.org/entity/Q9582>', '<http://www.wikidata.org/entity/Q9696>', '<http://www.wikidata.org/entity/Q649593>', '<http://www.wikidata.org/entity/Q33866>', '<http://www.wikidata.org/entity/Q22686>', '<http://www.wikidata.org/entity/Q6294>', '<http://www.wikidata.org/entity/Q9640>', '<http://www.wikidata.org/entity/Q35236>', '<http://www.wikidata.org/entity/Q9588>', '<http://www.wikidata.org/entity/Q9916>', '<http://www.wikidata.org/entity/Q23685>', '<http://www.wikidata.org/entity/Q8007>', '<http://www.wikidata.org/entity/Q11613>', '<http://www.wikidata.org/entity/Q9960>', '<http://www.wikidata.org/entity/Q23505>', '<http://www.wikidata.org/entity/Q1124>', '<http://www.wikidata.org/entity/Q207>', '<http://www.wikidata.org/entity/Q76>']\n"
     ]
    },
    {
     "ename": "NameError",
     "evalue": "name 'closest_objects' is not defined",
     "output_type": "error",
     "traceback": [
      "\u001b[0;31m---------------------------------------------------------------------------\u001b[0m",
      "\u001b[0;31mNameError\u001b[0m                                 Traceback (most recent call last)",
      "\u001b[0;32m<ipython-input-213-f4d1e17c3436>\u001b[0m in \u001b[0;36m<module>\u001b[0;34m\u001b[0m\n\u001b[0;32m----> 1\u001b[0;31m \u001b[0mdm\u001b[0m\u001b[0;34m(\u001b[0m\u001b[0minput_sentence\u001b[0m\u001b[0;34m)\u001b[0m\u001b[0;34m\u001b[0m\u001b[0;34m\u001b[0m\u001b[0m\n\u001b[0m",
      "\u001b[0;32m<ipython-input-212-bc6df8ef371e>\u001b[0m in \u001b[0;36mdm\u001b[0;34m(sentence)\u001b[0m\n\u001b[1;32m     91\u001b[0m \u001b[0;34m\u001b[0m\u001b[0m\n\u001b[1;32m     92\u001b[0m     \u001b[0;31m# verbalize\u001b[0m\u001b[0;34m\u001b[0m\u001b[0;34m\u001b[0m\u001b[0;34m\u001b[0m\u001b[0m\n\u001b[0;32m---> 93\u001b[0;31m     \u001b[0manswer\u001b[0m \u001b[0;34m=\u001b[0m \u001b[0mnlg\u001b[0m\u001b[0;34m(\u001b[0m\u001b[0mentity\u001b[0m\u001b[0;34m,\u001b[0m \u001b[0mp_label\u001b[0m\u001b[0;34m,\u001b[0m \u001b[0mclosest_objects\u001b[0m\u001b[0;34m)\u001b[0m\u001b[0;34m\u001b[0m\u001b[0;34m\u001b[0m\u001b[0m\n\u001b[0m\u001b[1;32m     94\u001b[0m \u001b[0;34m\u001b[0m\u001b[0m\n\u001b[1;32m     95\u001b[0m     \u001b[0;32mreturn\u001b[0m \u001b[0manswer\u001b[0m\u001b[0;34m\u001b[0m\u001b[0;34m\u001b[0m\u001b[0m\n",
      "\u001b[0;31mNameError\u001b[0m: name 'closest_objects' is not defined"
     ]
    }
   ],
   "source": [
    "dm(input_sentence)"
   ]
  },
  {
   "cell_type": "code",
   "execution_count": 100,
   "metadata": {},
   "outputs": [
    {
     "data": {
      "text/plain": [
       "(159995, 200)"
      ]
     },
     "execution_count": 100,
     "metadata": {},
     "output_type": "execute_result"
    }
   ],
   "source": [
    "sub_embeddings.shape"
   ]
  },
  {
   "cell_type": "code",
   "execution_count": 177,
   "metadata": {},
   "outputs": [
    {
     "name": "stdout",
     "output_type": "stream",
     "text": [
      "[ 0.1075 -0.1261 -0.7455 -0.2402  0.1471  0.2101  0.0534 -0.341  -0.1609\n",
      " -0.1139 -0.2344 -0.4218 -0.104  -0.1964 -0.0394  0.2543 -0.0348 -0.7975\n",
      " -0.417  -0.6311 -0.3675  0.1926 -0.0577  0.6249  0.1825 -0.0861 -0.3451\n",
      "  0.1605  0.1689  0.4871 -0.1394 -0.7255 -0.2328 -0.3595  0.2584  0.0932\n",
      " -0.6473  0.5285  0.5691  0.4674 -0.4019 -0.2163  0.5829 -0.1235 -0.1218\n",
      " -0.3541  0.5138  0.3963 -0.2188  0.2783 -0.4704  0.7306  0.4429 -0.3103\n",
      " -0.5473 -0.0343  0.212   0.4081  0.1151 -0.4411  0.1249 -0.206  -0.2597\n",
      " -0.5915 -0.9693 -0.4091 -0.1723 -0.5988 -0.3103  0.0166 -0.2886  0.9184\n",
      " -0.5986  0.54   -0.3211  0.0288  0.0716 -0.0038 -0.0458 -0.3905  0.3551\n",
      " -0.1882  0.16    0.6068 -0.4796 -0.2616 -0.8932  0.4808 -0.2699  0.2524\n",
      "  0.1405 -0.065   0.3391  0.4548  0.4399 -0.2892 -0.541   0.1967 -0.2979\n",
      " -0.188   0.5701 -0.3633 -0.9001  0.1739 -0.3426  0.2632  0.2393  0.6649\n",
      "  0.3528 -0.174   0.4254 -0.6697 -0.2279  0.9489  0.9914  0.1456 -0.436\n",
      " -0.1931 -0.6125 -0.0726  0.0493 -0.2028 -0.6533  0.8692  0.1682 -0.0348\n",
      "  0.0312  0.0183  0.1236  0.2963  0.2273  0.1785  0.1157 -0.6632 -0.654\n",
      " -0.1242 -0.0098  0.2041  0.3736  0.3721 -0.2817 -0.5446 -0.1738  0.139\n",
      "  0.5086 -0.2037 -0.2631 -0.4101  0.3302  0.0971 -0.2567  0.3166  0.2937\n",
      " -0.2632  0.4269 -0.5345  0.1429  0.1854 -0.0362  0.1493  0.0362  0.3731\n",
      "  0.1827  0.0676  0.3845  0.2654  0.0244  0.0376 -0.2238  0.2912  0.1005\n",
      " -0.1181 -0.0937 -0.2001  0.2107 -0.4149 -0.4098  0.1229 -0.0403  0.091\n",
      "  0.5908 -0.0111  0.9253  0.6346 -0.6148  0.2198 -0.485  -0.2553 -0.0131\n",
      "  0.2148  0.4403 -0.431   0.1746  0.3721 -0.2281 -0.4709 -0.0992 -0.0042\n",
      "  0.2128 -0.2825]\n",
      "[ 0.1256  0.4221  0.2946  0.7449 -0.2657 -0.2874 -0.0888  0.361   0.0828\n",
      " -0.1144 -0.2726  0.2848  0.0479  0.4009 -0.1567  0.3084 -0.0959  0.583\n",
      " -0.8772 -0.2726 -0.7541  0.1332 -0.4235  0.141   0.2194  0.326  -0.4192\n",
      " -0.1013  0.1459  0.4124 -0.7907 -0.3523  0.4164 -0.1888  0.631  -0.7206\n",
      " -0.1333  0.1861 -0.4117 -0.2665 -0.493  -0.283  -0.1691 -0.1921 -1.1376\n",
      " -0.3083 -0.3753  0.5576  0.5785  0.1698 -0.0464  0.2512  0.5784  0.4621\n",
      " -0.0199  0.4447  0.3446  0.4621 -0.3437 -0.294  -0.0595 -0.5184  1.3531\n",
      "  0.5128 -0.9275  0.3857 -0.0436  0.4085 -1.0108  0.1565 -0.1077  0.4321\n",
      " -0.5572  0.1202  0.501  -0.2003  0.1749 -0.1182 -0.3612 -0.1822 -0.0798\n",
      " -0.0569 -0.0831 -0.375  -0.0558 -0.0074 -0.2471  0.0253 -0.1807 -0.2144\n",
      " -0.0374  0.1016  0.2873  0.5575  0.8571 -0.4045 -0.0207 -0.0705 -0.501\n",
      " -0.2448 -0.1316  0.212  -0.4204  0.0813 -0.3381  0.0488  0.3837  0.5051\n",
      " -0.0739  0.0373  0.2933 -0.0336  0.2372 -0.0657 -0.1018  0.1218 -0.3389\n",
      "  0.1797 -0.2803  0.0287  0.5398 -0.6632 -0.2393 -0.0591 -0.2834 -0.6016\n",
      " -0.1229  0.0836  0.0712 -0.1375  0.664  -1.069  -0.1634  0.1566 -0.209\n",
      " -0.2175  0.4652 -0.0054 -0.2804  0.056   0.2141 -0.2603  0.311  -0.6935\n",
      " -0.0626 -0.074   0.3431  0.2777 -0.7836  0.0365  0.1507  0.032   0.3777\n",
      "  0.5111  0.3281  0.1808 -0.6355 -0.2224  0.3216 -0.4625  0.2651 -0.3001\n",
      "  0.0557  0.5483  0.3511  0.2492 -0.3792  0.918   0.2324  0.2988 -0.2004\n",
      "  0.413   0.1101 -0.5785 -0.0386  0.0524 -0.0335  0.385  -0.1014  0.2653\n",
      "  0.3985  0.1236  0.2964 -0.0498  0.3724  0.4746 -0.5419  0.443  -0.0879\n",
      " -0.2357  0.2271  0.062  -0.3561  0.3026 -0.3657 -0.2428  0.1151  0.4345\n",
      " -0.0901 -0.1993]\n"
     ]
    }
   ],
   "source": [
    "obama = sub_embeddings[entityuri2id[\"<http://www.wikidata.org/entity/Q76>\"]]\n",
    "mother = sub_embeddings[entityuri2id[\"<http://www.wikidata.org/entity/Q766106>\"]]\n",
    "m_rel = pred_embeddings[predicateuri2id[\"<http://www.wikidata.org/entity/P25>\"]]\n",
    "print(obama-mother)\n",
    "print(m_rel)"
   ]
  },
  {
   "cell_type": "code",
   "execution_count": null,
   "metadata": {},
   "outputs": [],
   "source": []
  }
 ],
 "metadata": {
  "kernelspec": {
   "display_name": "Python [conda env:ciss] *",
   "language": "python",
   "name": "conda-env-ciss-py"
  },
  "language_info": {
   "codemirror_mode": {
    "name": "ipython",
    "version": 3
   },
   "file_extension": ".py",
   "mimetype": "text/x-python",
   "name": "python",
   "nbconvert_exporter": "python",
   "pygments_lexer": "ipython3",
   "version": "3.7.3"
  }
 },
 "nbformat": 4,
 "nbformat_minor": 2
}
